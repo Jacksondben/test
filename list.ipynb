{
 "cells": [
  {
   "cell_type": "code",
   "execution_count": 2,
   "metadata": {},
   "outputs": [
    {
     "ename": "TypeError",
     "evalue": "'tuple' object does not support item assignment",
     "output_type": "error",
     "traceback": [
      "\u001b[1;31m---------------------------------------------------------------------------\u001b[0m",
      "\u001b[1;31mTypeError\u001b[0m                                 Traceback (most recent call last)",
      "\u001b[1;32m<ipython-input-2-c40286cb80a8>\u001b[0m in \u001b[0;36m<module>\u001b[1;34m\u001b[0m\n\u001b[0;32m      1\u001b[0m \u001b[0mtuple\u001b[0m\u001b[1;33m=\u001b[0m\u001b[1;33m(\u001b[0m\u001b[1;33m)\u001b[0m\u001b[1;33m\u001b[0m\u001b[1;33m\u001b[0m\u001b[0m\n\u001b[1;32m----> 2\u001b[1;33m \u001b[0mtuple\u001b[0m\u001b[1;33m[\u001b[0m\u001b[1;36m1\u001b[0m\u001b[1;33m]\u001b[0m\u001b[1;33m=\u001b[0m\u001b[1;36m2\u001b[0m\u001b[1;33m\u001b[0m\u001b[1;33m\u001b[0m\u001b[0m\n\u001b[0m\u001b[0;32m      3\u001b[0m \u001b[0mprint\u001b[0m\u001b[1;33m(\u001b[0m\u001b[0mtuple\u001b[0m\u001b[1;33m)\u001b[0m\u001b[1;33m\u001b[0m\u001b[1;33m\u001b[0m\u001b[0m\n",
      "\u001b[1;31mTypeError\u001b[0m: 'tuple' object does not support item assignment"
     ]
    }
   ],
   "source": [
    "tuple=()\n",
    "tuple[1]=2\n",
    "print(tuple)"
   ]
  },
  {
   "cell_type": "code",
   "execution_count": 4,
   "metadata": {},
   "outputs": [
    {
     "ename": "ValueError",
     "evalue": "invalid literal for int() with base 10: 'C:\\\\Users\\\\New\\\\anaconda3\\\\lib\\\\site-packages\\\\ipykernel_launcher.py'",
     "output_type": "error",
     "traceback": [
      "\u001b[1;31m---------------------------------------------------------------------------\u001b[0m",
      "\u001b[1;31mValueError\u001b[0m                                Traceback (most recent call last)",
      "\u001b[1;32m<ipython-input-4-2d8c49c8bf54>\u001b[0m in \u001b[0;36m<module>\u001b[1;34m\u001b[0m\n\u001b[0;32m      1\u001b[0m \u001b[1;32mimport\u001b[0m \u001b[0msys\u001b[0m\u001b[1;33m\u001b[0m\u001b[1;33m\u001b[0m\u001b[0m\n\u001b[1;32m----> 2\u001b[1;33m \u001b[0ma\u001b[0m\u001b[1;33m=\u001b[0m\u001b[0mint\u001b[0m\u001b[1;33m(\u001b[0m\u001b[0msys\u001b[0m\u001b[1;33m.\u001b[0m\u001b[0margv\u001b[0m\u001b[1;33m[\u001b[0m\u001b[1;36m0\u001b[0m\u001b[1;33m]\u001b[0m\u001b[1;33m)\u001b[0m\u001b[1;33m\u001b[0m\u001b[1;33m\u001b[0m\u001b[0m\n\u001b[0m\u001b[0;32m      3\u001b[0m \u001b[0mprint\u001b[0m\u001b[1;33m(\u001b[0m\u001b[0ma\u001b[0m\u001b[1;33m)\u001b[0m\u001b[1;33m\u001b[0m\u001b[1;33m\u001b[0m\u001b[0m\n",
      "\u001b[1;31mValueError\u001b[0m: invalid literal for int() with base 10: 'C:\\\\Users\\\\New\\\\anaconda3\\\\lib\\\\site-packages\\\\ipykernel_launcher.py'"
     ]
    }
   ],
   "source": [
    "import sys\n",
    "a=int(sys.argv[0])\n",
    "print(a)"
   ]
  },
  {
   "cell_type": "code",
   "execution_count": 7,
   "metadata": {},
   "outputs": [
    {
     "ename": "ValueError",
     "evalue": "math domain error",
     "output_type": "error",
     "traceback": [
      "\u001b[1;31m---------------------------------------------------------------------------\u001b[0m",
      "\u001b[1;31mValueError\u001b[0m                                Traceback (most recent call last)",
      "\u001b[1;32m<ipython-input-7-1158665f2c67>\u001b[0m in \u001b[0;36m<module>\u001b[1;34m\u001b[0m\n\u001b[0;32m      1\u001b[0m \u001b[1;32mimport\u001b[0m \u001b[0mmath\u001b[0m\u001b[1;33m\u001b[0m\u001b[1;33m\u001b[0m\u001b[0m\n\u001b[1;32m----> 2\u001b[1;33m \u001b[0mprint\u001b[0m\u001b[1;33m(\u001b[0m\u001b[0mmath\u001b[0m\u001b[1;33m.\u001b[0m\u001b[0msqrt\u001b[0m\u001b[1;33m(\u001b[0m\u001b[1;33m-\u001b[0m\u001b[1;36m1\u001b[0m\u001b[1;33m)\u001b[0m\u001b[1;33m)\u001b[0m\u001b[1;33m\u001b[0m\u001b[1;33m\u001b[0m\u001b[0m\n\u001b[0m",
      "\u001b[1;31mValueError\u001b[0m: math domain error"
     ]
    }
   ],
   "source": [
    "import math\n",
    "print(math.sqrt(-1))"
   ]
  },
  {
   "cell_type": "code",
   "execution_count": 9,
   "metadata": {},
   "outputs": [
    {
     "ename": "TypeError",
     "evalue": "'module' object is not callable",
     "output_type": "error",
     "traceback": [
      "\u001b[1;31m---------------------------------------------------------------------------\u001b[0m",
      "\u001b[1;31mTypeError\u001b[0m                                 Traceback (most recent call last)",
      "\u001b[1;32m<ipython-input-9-4afc378eabfb>\u001b[0m in \u001b[0;36m<module>\u001b[1;34m\u001b[0m\n\u001b[0;32m      1\u001b[0m \u001b[1;32mimport\u001b[0m \u001b[0mmath\u001b[0m\u001b[1;33m\u001b[0m\u001b[1;33m\u001b[0m\u001b[0m\n\u001b[1;32m----> 2\u001b[1;33m \u001b[0mprint\u001b[0m\u001b[1;33m(\u001b[0m\u001b[0mmath\u001b[0m\u001b[1;33m(\u001b[0m\u001b[1;33m)\u001b[0m\u001b[1;33m)\u001b[0m\u001b[1;33m\u001b[0m\u001b[1;33m\u001b[0m\u001b[0m\n\u001b[0m",
      "\u001b[1;31mTypeError\u001b[0m: 'module' object is not callable"
     ]
    }
   ],
   "source": [
    "import math\n",
    "print(math())"
   ]
  },
  {
   "cell_type": "code",
   "execution_count": 7,
   "metadata": {},
   "outputs": [
    {
     "name": "stdout",
     "output_type": "stream",
     "text": [
      "1.0\n"
     ]
    }
   ],
   "source": [
    "import math\n",
    "a=-1\n",
    "root=math.sqrt(abs(a))\n",
    "print(root)"
   ]
  },
  {
   "cell_type": "code",
   "execution_count": 8,
   "metadata": {},
   "outputs": [
    {
     "name": "stdout",
     "output_type": "stream",
     "text": [
      "1\n"
     ]
    }
   ],
   "source": [
    "import math\n",
    "a=-1\n",
    "root=math.isqrt(abs(a))\n",
    "print(root)"
   ]
  },
  {
   "cell_type": "code",
   "execution_count": 9,
   "metadata": {},
   "outputs": [
    {
     "name": "stdout",
     "output_type": "stream",
     "text": [
      "1j\n"
     ]
    }
   ],
   "source": [
    "import cmath\n",
    "a=-1\n",
    "root=cmath.sqrt(a)\n",
    "print(root)"
   ]
  },
  {
   "cell_type": "code",
   "execution_count": 54,
   "metadata": {},
   "outputs": [
    {
     "name": "stdout",
     "output_type": "stream",
     "text": [
      "list with multiple data types= [1, 'charu', True, 3, 'thilak']\n",
      "lenth of list 5\n",
      "True\n",
      "['charu', True, 3, 'thilak']\n",
      "[1, 'charu']\n",
      "thilak\n",
      "[True, 3, 'thilak']\n",
      "changing the value of list [1, 'mathi', True, 3, 'thilak']\n"
     ]
    }
   ],
   "source": [
    "#list with int,string,boolean\n",
    "l1=[1,\"charu\",True,3,\"thilak\"]\n",
    "print(\"list with multiple data types=\",l1)\n",
    "#lenth of list\n",
    "print(\"lenth of list\",len(l1))\n",
    "#indexing\n",
    "print(l1[2])\n",
    "print(l1[1:])\n",
    "print(l1[:2])#prints n-1 index\n",
    "#negative indexing\n",
    "print(l1[-1])\n",
    "print(l1[-3:])\n",
    "#changing of list value\n",
    "l1[1]=\"mathi\"\n",
    "print(\"changing the value of list\",l1)\n"
   ]
  },
  {
   "cell_type": "code",
   "execution_count": 51,
   "metadata": {},
   "outputs": [
    {
     "name": "stdout",
     "output_type": "stream",
     "text": [
      "remove value of index 1:: [2, 3, 'game', 'passion', True, False]\n",
      "pop the second index value:: [2, 3, 'passion', True, False]\n",
      "pop the last index value:: [2, 3, 'passion', True]\n",
      "delete the index 3 value:: [2, 3, 'passion']\n",
      "clear the entire list: []\n"
     ]
    },
    {
     "ename": "NameError",
     "evalue": "name 'l1' is not defined",
     "output_type": "error",
     "traceback": [
      "\u001b[1;31m---------------------------------------------------------------------------\u001b[0m",
      "\u001b[1;31mNameError\u001b[0m                                 Traceback (most recent call last)",
      "\u001b[1;32m<ipython-input-51-bd0e1ec61b2f>\u001b[0m in \u001b[0;36m<module>\u001b[1;34m\u001b[0m\n\u001b[0;32m     12\u001b[0m \u001b[0mprint\u001b[0m\u001b[1;33m(\u001b[0m\u001b[1;34m\"clear the entire list:\"\u001b[0m\u001b[1;33m,\u001b[0m\u001b[0ml1\u001b[0m\u001b[1;33m)\u001b[0m\u001b[1;33m\u001b[0m\u001b[1;33m\u001b[0m\u001b[0m\n\u001b[0;32m     13\u001b[0m \u001b[1;32mdel\u001b[0m \u001b[0ml1\u001b[0m\u001b[1;33m\u001b[0m\u001b[1;33m\u001b[0m\u001b[0m\n\u001b[1;32m---> 14\u001b[1;33m \u001b[0mprint\u001b[0m\u001b[1;33m(\u001b[0m\u001b[1;34m\"delete the entire list::\"\u001b[0m\u001b[1;33m,\u001b[0m\u001b[0ml1\u001b[0m\u001b[1;33m)\u001b[0m\u001b[1;33m\u001b[0m\u001b[1;33m\u001b[0m\u001b[0m\n\u001b[0m",
      "\u001b[1;31mNameError\u001b[0m: name 'l1' is not defined"
     ]
    }
   ],
   "source": [
    "#remove list\n",
    "l1=[1,2,3,\"game\",\"passion\",True,False]\n",
    "l1.remove(1)\n",
    "print(\"remove value of index 1::\",l1)\n",
    "l1.pop(2)\n",
    "print(\"pop the second index value::\",l1)\n",
    "l1.pop()\n",
    "print(\"pop the last index value::\",l1)\n",
    "del l1[3]\n",
    "print(\"delete the index 3 value::\",l1)\n",
    "l1.clear()\n",
    "print(\"clear the entire list:\",l1)\n",
    "del l1\n",
    "print(\"delete the entire list::\",l1)"
   ]
  },
  {
   "cell_type": "code",
   "execution_count": 26,
   "metadata": {},
   "outputs": [
    {
     "name": "stdout",
     "output_type": "stream",
     "text": [
      "[1, 'charu', True, 3, 'thilak', 'gayu']\n",
      "[1, 'charu', 'teju', True, 3, 'thilak', 'gayu']\n",
      "[1, 'charu', 'teju', True, 3, 'thilak', 'gayu', 1, 2, 3]\n",
      "yes\n",
      "no\n"
     ]
    }
   ],
   "source": [
    "l1=[1,\"charu\",True,3,\"thilak\"]\n",
    "#add item\n",
    "l1.append(\"gayu\")\n",
    "print(l1)\n",
    "#insert item\n",
    "l1.insert(2,\"teju\")\n",
    "print(l1)\n",
    "#extending list\n",
    "l2=[1,2,3]\n",
    "l1.extend(l2)\n",
    "print(l1)\n",
    "#cheking element present in list\n",
    "if \"thilak\" in (l1):\n",
    "    print(\"yes\")\n",
    "else:\n",
    "    print(\"no\")\n",
    "if 23 in (l1):\n",
    "         print(\"yes\")\n",
    "else:\n",
    "         print(\"no\")"
   ]
  },
  {
   "cell_type": "code",
   "execution_count": 55,
   "metadata": {},
   "outputs": [
    {
     "name": "stdout",
     "output_type": "stream",
     "text": [
      "1\n",
      "game\n",
      "False\n",
      "1\n",
      "game\n",
      "False\n"
     ]
    }
   ],
   "source": [
    "#loop list\n",
    "l1=[1,\"game\",False]\n",
    "#for loop\n",
    "for i in  l1:\n",
    "    print(i)\n",
    "#while loop\n",
    "while i <len(l1):\n",
    "    print(l1[i])\n",
    "    i=i+1\n"
   ]
  },
  {
   "cell_type": "code",
   "execution_count": 47,
   "metadata": {},
   "outputs": [
    {
     "name": "stdout",
     "output_type": "stream",
     "text": [
      "['a', 'b', 'c', 'd']\n",
      "[1, 2, 3, 4, 6]\n",
      "['d', 'c', 'b', 'a']\n",
      "[6, 4, 3, 2, 1]\n",
      "[6, 4, 3, 2, 1]\n",
      "['d', 'c', 'b', 'a', 6, 4, 3, 2, 1]\n"
     ]
    }
   ],
   "source": [
    "#sort\n",
    "l1=[\"c\",\"a\",\"d\",\"b\"]\n",
    "l2=[4,2,1,6,3]\n",
    "l1.sort()\n",
    "l2.sort()\n",
    "print(l1)\n",
    "print(l2)\n",
    "#reverse\n",
    "l1.reverse()\n",
    "print(l1)\n",
    "l2.reverse()\n",
    "print(l2)\n",
    "#copy list\n",
    "l3=l2.copy()\n",
    "print(l3)\n",
    "#concatenate list\n",
    "print(l1+l2)"
   ]
  },
  {
   "cell_type": "code",
   "execution_count": 108,
   "metadata": {},
   "outputs": [
    {
     "name": "stdout",
     "output_type": "stream",
     "text": [
      "250\n"
     ]
    }
   ],
   "source": [
    "b=0oFA\n",
    "print(b)\n"
   ]
  },
  {
   "cell_type": "code",
   "execution_count": 109,
   "metadata": {},
   "outputs": [
    {
     "ename": "SyntaxError",
     "evalue": "leading zeros in decimal integer literals are not permitted; use an 0o prefix for octal integers (<ipython-input-109-f384fffcca5d>, line 1)",
     "output_type": "error",
     "traceback": [
      "\u001b[1;36m  File \u001b[1;32m\"<ipython-input-109-f384fffcca5d>\"\u001b[1;36m, line \u001b[1;32m1\u001b[0m\n\u001b[1;33m    A=09\u001b[0m\n\u001b[1;37m       ^\u001b[0m\n\u001b[1;31mSyntaxError\u001b[0m\u001b[1;31m:\u001b[0m leading zeros in decimal integer literals are not permitted; use an 0o prefix for octal integers\n"
     ]
    }
   ],
   "source": [
    "A=09\n",
    "print(A)\n"
   ]
  },
  {
   "cell_type": "code",
   "execution_count": 93,
   "metadata": {},
   "outputs": [
    {
     "name": "stdout",
     "output_type": "stream",
     "text": [
      "my nsam charu\n",
      "      charu    mamAthi\n",
      "bjkdhfvdlklkakdxopa,wsjieroutop,dewruiyjkhwdruie\n",
      "jkdhf\n",
      "wdr\n",
      "      CHARU    MA\n",
      "mathi\n",
      "charu    ma\n",
      "      charu    mathi\n",
      "['hi', 'charu']\n"
     ]
    }
   ],
   "source": [
    "a1=34\n",
    "c=\"hi,charu\"\n",
    "tx=\"my nsam charu\"\n",
    "print(tx.format(a))\n",
    "a=\"      charu    ma\"\n",
    "b=\"mAthi\"\n",
    "print(a+b)\n",
    "d=\"\"\"bjkdhfvdlklkakdxopa,wsjieroutop,dewruiyjkhwdruie\"\"\"\n",
    "print(d)\n",
    "print(d[1:6])\n",
    "print(d[-6:-3])\n",
    "print(a.upper())\n",
    "print(b.lower())\n",
    "print(a.strip())\n",
    "print(a.replace(\"ma\",\"mathi\"))\n",
    "print(c.split(\",\"))"
   ]
  },
  {
   "cell_type": "code",
   "execution_count": 100,
   "metadata": {},
   "outputs": [
    {
     "name": "stdout",
     "output_type": "stream",
     "text": [
      "this is 78 kg and now a\n",
      "my name is \"cghjhg\" iddg\n"
     ]
    }
   ],
   "source": [
    "\n",
    "a=78\n",
    "b=\"a\"\n",
    "tx=\"this is {} kg and now {}\"\n",
    "print(tx.format(a,b))\n",
    "txt=\"my name is \\\"cghjhg\\\" iddg\"\n",
    "print(txt)"
   ]
  },
  {
   "cell_type": "code",
   "execution_count": 101,
   "metadata": {},
   "outputs": [
    {
     "name": "stdout",
     "output_type": "stream",
     "text": [
      "('apple', 'banana', 'cherry')\n"
     ]
    }
   ],
   "source": [
    "thistuple = tuple((\"apple\", \"banana\", \"cherry\")) # note the double round-brackets\n",
    "print(thistuple)\n"
   ]
  },
  {
   "cell_type": "code",
   "execution_count": 102,
   "metadata": {},
   "outputs": [
    {
     "name": "stdout",
     "output_type": "stream",
     "text": [
      "['apple', 'banana', 'cherry']\n"
     ]
    }
   ],
   "source": [
    "thistuple = list((\"apple\", \"banana\", \"cherry\")) # note the double round-brackets\n",
    "print(thistuple)"
   ]
  },
  {
   "cell_type": "code",
   "execution_count": 103,
   "metadata": {},
   "outputs": [
    {
     "name": "stdout",
     "output_type": "stream",
     "text": [
      "['apple', 'banana', 'cherry']\n"
     ]
    }
   ],
   "source": [
    "x = (\"apple\", \"banana\", \"cherry\")\n",
    "y = list(x)\n",
    "print(y)"
   ]
  },
  {
   "cell_type": "code",
   "execution_count": 115,
   "metadata": {},
   "outputs": [
    {
     "name": "stdout",
     "output_type": "stream",
     "text": [
      "fhjguh ljuol gjkhlivyiu\n",
      "y dfhjyuojk \n",
      "dtyhtuihjkuopo xgt,ruyjiu,ftgyujy8o7osafd,\n",
      "dchgfyuurf\n"
     ]
    }
   ],
   "source": [
    "txt=\"\"\"fhjguh ljuol gjkhlivyiu\n",
    "y dfhjyuojk \n",
    "dtyhtuihjkuopo xgt,ruyjiu,ftgyujy8o7osafd,\n",
    "dchgfyuurf\"\"\"\n",
    "print(txt)"
   ]
  },
  {
   "cell_type": "code",
   "execution_count": 114,
   "metadata": {},
   "outputs": [
    {
     "name": "stdout",
     "output_type": "stream",
     "text": [
      "True\n"
     ]
    }
   ],
   "source": [
    "a=4\n",
    "b=5\n",
    "print(a!=b)"
   ]
  },
  {
   "cell_type": "code",
   "execution_count": null,
   "metadata": {},
   "outputs": [
    {
     "name": "stdout",
     "output_type": "stream",
     "text": [
      "1.&---AND \n",
      "2.|---OR\n",
      "3.^---X-OR\n",
      "4~ ---NOT\n",
      "5.<<---Zero fill left shift\n",
      "6.>>---Signed right shift\n",
      "7.Exit\n",
      "operation to perform1\n"
     ]
    }
   ],
   "source": [
    "operations=\"\"\"1.&---AND \n",
    "2.|---OR\n",
    "3.^---X-OR\n",
    "4~ ---NOT\n",
    "5.<<---Zero fill left shift\n",
    "6.>>---Signed right shift\n",
    "7.Exit\"\"\"\n",
    "print(operations)\n",
    "c=input(\"operation to perform\")\n",
    "a=(input(\"Enter Binary Number 1:\"))\n",
    "b=(input(\"Enter Binary Number 2:\"))\n",
    "a.\n",
    "if c==1:\n",
    "    \n",
    "\n"
   ]
  },
  {
   "cell_type": "code",
   "execution_count": 8,
   "metadata": {},
   "outputs": [
    {
     "ename": "NameError",
     "evalue": "name 'count' is not defined",
     "output_type": "error",
     "traceback": [
      "\u001b[1;31m---------------------------------------------------------------------------\u001b[0m",
      "\u001b[1;31mNameError\u001b[0m                                 Traceback (most recent call last)",
      "\u001b[1;32m<ipython-input-8-a6fcdefecae9>\u001b[0m in \u001b[0;36m<module>\u001b[1;34m\u001b[0m\n\u001b[0;32m      1\u001b[0m \u001b[0ml1\u001b[0m\u001b[1;33m=\u001b[0m\u001b[1;33m[\u001b[0m\u001b[1;34m\"hi\"\u001b[0m\u001b[1;33m,\u001b[0m\u001b[1;34m\"man\"\u001b[0m\u001b[1;33m,\u001b[0m\u001b[1;34m\"abc\"\u001b[0m\u001b[1;33m]\u001b[0m\u001b[1;33m\u001b[0m\u001b[1;33m\u001b[0m\u001b[0m\n\u001b[0;32m      2\u001b[0m \u001b[0mmax\u001b[0m\u001b[1;33m(\u001b[0m\u001b[0ml1\u001b[0m\u001b[1;33m)\u001b[0m\u001b[1;33m\u001b[0m\u001b[1;33m\u001b[0m\u001b[0m\n\u001b[1;32m----> 3\u001b[1;33m \u001b[0mcount\u001b[0m\u001b[1;33m(\u001b[0m\u001b[0ml1\u001b[0m\u001b[1;33m)\u001b[0m\u001b[1;33m\u001b[0m\u001b[1;33m\u001b[0m\u001b[0m\n\u001b[0m",
      "\u001b[1;31mNameError\u001b[0m: name 'count' is not defined"
     ]
    }
   ],
   "source": [
    "l1=[\"hi\",\"man\",\"abc\"]\n",
    "max(l1)\n",
    "count(l1)"
   ]
  },
  {
   "cell_type": "code",
   "execution_count": 11,
   "metadata": {},
   "outputs": [
    {
     "name": "stdout",
     "output_type": "stream",
     "text": [
      "1 2\n"
     ]
    }
   ],
   "source": [
    "def fn(a=1,b=2):\n",
    "     return a,b\n",
    "a,b=fn(1,2)\n",
    "print(a,b)"
   ]
  },
  {
   "cell_type": "code",
   "execution_count": 14,
   "metadata": {},
   "outputs": [
    {
     "name": "stdout",
     "output_type": "stream",
     "text": [
      "1 (1, 2)\n"
     ]
    }
   ],
   "source": []
  },
  {
   "cell_type": "code",
   "execution_count": 16,
   "metadata": {},
   "outputs": [
    {
     "name": "stdout",
     "output_type": "stream",
     "text": [
      "1 (1, 2)\n",
      "1 (1, 2)\n"
     ]
    }
   ],
   "source": [
    "def fn(a=1,b=2):\n",
    "     return a\n",
    "a=fn(1,2)\n",
    "print(a,b)\n",
    "def fn(a=1,b=2):\n",
    "     return a\n",
    "a=fn(1,2)\n",
    "print(a,b)"
   ]
  },
  {
   "cell_type": "code",
   "execution_count": null,
   "metadata": {},
   "outputs": [],
   "source": []
  },
  {
   "cell_type": "code",
   "execution_count": null,
   "metadata": {},
   "outputs": [],
   "source": []
  }
 ],
 "metadata": {
  "kernelspec": {
   "display_name": "Python 3",
   "language": "python",
   "name": "python3"
  },
  "language_info": {
   "codemirror_mode": {
    "name": "ipython",
    "version": 3
   },
   "file_extension": ".py",
   "mimetype": "text/x-python",
   "name": "python",
   "nbconvert_exporter": "python",
   "pygments_lexer": "ipython3",
   "version": "3.8.5"
  }
 },
 "nbformat": 4,
 "nbformat_minor": 4
}
